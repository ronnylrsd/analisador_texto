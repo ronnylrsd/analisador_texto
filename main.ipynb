{
 "cells": [
  {
   "cell_type": "code",
   "execution_count": 4,
   "metadata": {},
   "outputs": [
    {
     "name": "stdout",
     "output_type": "stream",
     "text": [
      "!\"#$%&'()*+,-./:;<=>?@[\\]^_`{|}~\n"
     ]
    }
   ],
   "source": [
    "import string\n",
    "print(string.punctuation)"
   ]
  },
  {
   "cell_type": "code",
   "execution_count": 5,
   "metadata": {},
   "outputs": [
    {
     "name": "stdout",
     "output_type": "stream",
     "text": [
      "ABCDEFGHIJKLMNOPQRSTUVWXYZ\n"
     ]
    }
   ],
   "source": [
    "print(string.ascii_uppercase)"
   ]
  },
  {
   "cell_type": "code",
   "execution_count": 6,
   "metadata": {},
   "outputs": [
    {
     "name": "stdout",
     "output_type": "stream",
     "text": [
      "Counter({'a': 3, 'b': 2, 'c': 1})\n",
      "Counter({'a': 3, 'b': 2, 'c': 1})\n"
     ]
    }
   ],
   "source": [
    "from collections import Counter\n",
    "#Lists and strings are recognized as sequence in Counter\n",
    "print(Counter(['a','b','a','c','b','a']))\n",
    "print(Counter('abacba'))"
   ]
  },
  {
   "cell_type": "code",
   "execution_count": 7,
   "metadata": {},
   "outputs": [
    {
     "name": "stdout",
     "output_type": "stream",
     "text": [
      "Contagem de palavras: 8\n",
      "Frequência de palavras: Counter({'Olá': 2, 'mundo!': 1, 'Este': 1, 'é': 1, 'um': 1, 'teste.': 1, 'novamente.': 1})\n",
      "Frequência de letras: Counter({' ': 7, 'e': 5, 't': 4, 'm': 3, 'n': 3, 'O': 2, 'l': 2, 'á': 2, 'u': 2, 'o': 2, 's': 2, '.': 2, 'd': 1, '!': 1, 'E': 1, 'é': 1, 'v': 1, 'a': 1})\n"
     ]
    }
   ],
   "source": [
    "#Simple\n",
    "\n",
    "def text_analizer(text):\n",
    "    words = text.split()\n",
    "    words_count = len(words)\n",
    "    words_frequency = Counter(words)\n",
    "    letters_frequency = Counter(text)\n",
    "\n",
    "    return words_count, words_frequency, letters_frequency\n",
    "\n",
    "text = \"Olá mundo! Este é um teste. Olá novamente.\"\n",
    "\n",
    "words_count, words_frequency, letters_frequency = text_analizer(text)\n",
    "\n",
    "print(f\"Contagem de palavras: {words_count}\")\n",
    "print(f\"Frequência de palavras: {words_frequency}\")\n",
    "print(f\"Frequência de letras: {letters_frequency}\")"
   ]
  },
  {
   "cell_type": "code",
   "execution_count": 8,
   "metadata": {},
   "outputs": [
    {
     "name": "stdout",
     "output_type": "stream",
     "text": [
      "{97: None, 101: 50, 105: 51, 111: 52, 117: 53}\n"
     ]
    }
   ],
   "source": [
    "vowels=\"aeiou\"\n",
    "numbers=\"12345\"\n",
    "remove=\"a\"\n",
    "\n",
    "\n",
    "trade_guide=str.maketrans(vowels,numbers,remove)\n",
    "print(trade_guide)"
   ]
  },
  {
   "cell_type": "code",
   "execution_count": 9,
   "metadata": {},
   "outputs": [
    {
     "name": "stdout",
     "output_type": "stream",
     "text": [
      "bcd2fgh3jklmn4pqrst5vwxyz\n"
     ]
    }
   ],
   "source": [
    "lowercase_letters = string.ascii_lowercase\n",
    "print(lowercase_letters.translate(trade_guide))"
   ]
  },
  {
   "cell_type": "code",
   "execution_count": 12,
   "metadata": {},
   "outputs": [
    {
     "name": "stdout",
     "output_type": "stream",
     "text": [
      "Contagem de palavras: 8\n",
      "Frequência de palavras: Counter({'Olá': 2, 'mundo': 1, 'Este': 1, 'é': 1, 'um': 1, 'teste': 1, 'novamente': 1})\n",
      "Frequência de letras: Counter({' ': 7, 'e': 6, 'o': 4, 't': 4, 'm': 3, 'n': 3, 'l': 2, 'á': 2, 'u': 2, 's': 2, 'd': 1, 'é': 1, 'v': 1, 'a': 1})\n"
     ]
    }
   ],
   "source": [
    "def text_analizer(text):\n",
    "    treatment = str.maketrans(\"\",\"\",string.punctuation)\n",
    "    trated_text = text.translate(treatment)\n",
    "    words = trated_text.split()\n",
    "    words_count = len(words)\n",
    "    words_frequency = Counter(words)\n",
    "    letters_frequency = Counter(trated_text.lower())\n",
    "\n",
    "    return words_count, words_frequency, letters_frequency\n",
    "\n",
    "text = \"Olá mundo! Este é um teste. Olá novamente.\"\n",
    "\n",
    "words_count, words_frequency, letters_frequency = text_analizer(text)\n",
    "\n",
    "print(f\"Contagem de palavras: {words_count}\")\n",
    "print(f\"Frequência de palavras: {words_frequency}\")\n",
    "print(f\"Frequência de letras: {letters_frequency}\")"
   ]
  }
 ],
 "metadata": {
  "kernelspec": {
   "display_name": "Python 3",
   "language": "python",
   "name": "python3"
  },
  "language_info": {
   "codemirror_mode": {
    "name": "ipython",
    "version": 3
   },
   "file_extension": ".py",
   "mimetype": "text/x-python",
   "name": "python",
   "nbconvert_exporter": "python",
   "pygments_lexer": "ipython3",
   "version": "3.8.0"
  }
 },
 "nbformat": 4,
 "nbformat_minor": 2
}
